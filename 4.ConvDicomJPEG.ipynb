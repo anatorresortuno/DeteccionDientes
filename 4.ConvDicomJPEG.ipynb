{
 "cells": [
  {
   "cell_type": "code",
   "execution_count": 4,
   "id": "59cd6ea6-32d0-4c0c-86e3-17a72f79cf10",
   "metadata": {},
   "outputs": [],
   "source": [
    "import os\n",
    "import zipfile\n",
    "import pydicom\n",
    "import numpy as np\n",
    "import cv2"
   ]
  },
  {
   "cell_type": "code",
   "execution_count": 5,
   "id": "1a642b97-b1dc-4052-a37d-9e972fc265ea",
   "metadata": {},
   "outputs": [
    {
     "name": "stdout",
     "output_type": "stream",
     "text": [
      "La carpeta ya está descomprimida\n",
      "✅ 405 imágenes convertidas y guardadas en C:/Users/ana.torres/Desktop/python/biomod/DICOM/caso19/jpeg_images/\n"
     ]
    }
   ],
   "source": [
    "# Ruta al archivo ZIP\n",
    "zip_file = 'C:/Users/ana.torres/Desktop/python/biomod/DICOM/caso19/dicom.zip'\n",
    "extract_folder = 'C:/Users/ana.torres/Desktop/python/biomod/DICOM/caso19/descomprimido/dicom/'\n",
    "output_folder = 'C:/Users/ana.torres/Desktop/python/biomod/DICOM/caso19/jpeg_images/'  # Carpeta de salida\n",
    "\n",
    "# Crear carpeta de salida si no existe\n",
    "os.makedirs(output_folder, exist_ok=True)\n",
    "\n",
    "# Verificar si la carpeta ya está descomprimida\n",
    "if not os.path.exists(extract_folder) or not any(f.endswith('.dcm') for f in os.listdir(extract_folder)):\n",
    "    print(\"Descomprimiendo archivos...\")\n",
    "    with zipfile.ZipFile(zip_file, 'r') as zip_ref:\n",
    "        zip_ref.extractall(extract_folder)\n",
    "    print(\"Descompresión completada.\")\n",
    "else:\n",
    "    print(\"La carpeta ya está descomprimida\")\n",
    "\n",
    "# Listar archivos DICOM\n",
    "dicom_files = sorted([os.path.join(extract_folder, f) for f in os.listdir(extract_folder) if f.endswith('.dcm')])\n",
    "\n",
    "if not dicom_files:\n",
    "    print(\"No se encontraron archivos DICOM en la carpeta.\")\n",
    "    exit()\n",
    "\n",
    "# Convertir cada imagen DICOM a JPEG\n",
    "for dicom_file in dicom_files:\n",
    "    ds = pydicom.dcmread(dicom_file)\n",
    "    img_array = ds.pixel_array  # Obtener la imagen en escala de grises\n",
    "\n",
    "    # Normalizar la imagen a rango [0, 255] para guardar como JPEG\n",
    "    img_array = (img_array - np.min(img_array)) / (np.max(img_array) - np.min(img_array)) * 255\n",
    "    img_array = img_array.astype(np.uint8)\n",
    "\n",
    "    # Obtener el nombre original sin extensión\n",
    "    file_name = os.path.basename(dicom_file).replace('.dcm', '.jpeg')\n",
    "\n",
    "    # Ruta de salida\n",
    "    output_path = os.path.join(output_folder, file_name)\n",
    "\n",
    "    # Guardar la imagen en formato JPEG\n",
    "    cv2.imwrite(output_path, img_array)\n",
    "\n",
    "print(f\"✅ {len(dicom_files)} imágenes convertidas y guardadas en {output_folder}\")"
   ]
  },
  {
   "cell_type": "code",
   "execution_count": null,
   "id": "e5922fcc-d5d9-45a5-b217-336866798318",
   "metadata": {},
   "outputs": [],
   "source": []
  }
 ],
 "metadata": {
  "kernelspec": {
   "display_name": "Python 3 (ipykernel)",
   "language": "python",
   "name": "python3"
  },
  "language_info": {
   "codemirror_mode": {
    "name": "ipython",
    "version": 3
   },
   "file_extension": ".py",
   "mimetype": "text/x-python",
   "name": "python",
   "nbconvert_exporter": "python",
   "pygments_lexer": "ipython3",
   "version": "3.13.2"
  }
 },
 "nbformat": 4,
 "nbformat_minor": 5
}

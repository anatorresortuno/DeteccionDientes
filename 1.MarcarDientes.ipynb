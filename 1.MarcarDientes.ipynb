{
 "cells": [
  {
   "cell_type": "code",
   "execution_count": 1,
   "id": "4c91d06a-f674-4db8-8960-10f8cf199ba9",
   "metadata": {},
   "outputs": [
    {
     "name": "stdin",
     "output_type": "stream",
     "text": [
      "🦷 Número del diente para contorno 3:  22\n"
     ]
    },
    {
     "name": "stdout",
     "output_type": "stream",
     "text": [
      "✅ Diente 22 asignado.\n"
     ]
    },
    {
     "name": "stdin",
     "output_type": "stream",
     "text": [
      "🦷 Número del diente para contorno 2:  25\n"
     ]
    },
    {
     "name": "stdout",
     "output_type": "stream",
     "text": [
      "✅ Diente 25 asignado.\n"
     ]
    },
    {
     "name": "stdin",
     "output_type": "stream",
     "text": [
      "🦷 Número del diente para contorno 1:  q\n"
     ]
    },
    {
     "name": "stdout",
     "output_type": "stream",
     "text": [
      "⚠️ Número inválido.\n",
      "💾 Anotaciones guardadas para image0127.jpeg.\n"
     ]
    },
    {
     "name": "stdin",
     "output_type": "stream",
     "text": [
      "🦷 Número del diente para contorno 4:  21\n"
     ]
    },
    {
     "name": "stdout",
     "output_type": "stream",
     "text": [
      "✅ Diente 21 asignado.\n"
     ]
    },
    {
     "name": "stdin",
     "output_type": "stream",
     "text": [
      "🦷 Número del diente para contorno 3:  22\n"
     ]
    },
    {
     "name": "stdout",
     "output_type": "stream",
     "text": [
      "✅ Diente 22 asignado.\n"
     ]
    },
    {
     "name": "stdin",
     "output_type": "stream",
     "text": [
      "🦷 Número del diente para contorno 2:  25\n"
     ]
    },
    {
     "name": "stdout",
     "output_type": "stream",
     "text": [
      "✅ Diente 25 asignado.\n",
      "💾 Anotaciones guardadas para image0128.jpeg.\n"
     ]
    },
    {
     "name": "stdin",
     "output_type": "stream",
     "text": [
      "🦷 Número del diente para contorno 5:  21\n"
     ]
    },
    {
     "name": "stdout",
     "output_type": "stream",
     "text": [
      "✅ Diente 21 asignado.\n"
     ]
    },
    {
     "name": "stdin",
     "output_type": "stream",
     "text": [
      "🦷 Número del diente para contorno 4:  22\n"
     ]
    },
    {
     "name": "stdout",
     "output_type": "stream",
     "text": [
      "✅ Diente 22 asignado.\n"
     ]
    },
    {
     "name": "stdin",
     "output_type": "stream",
     "text": [
      "🦷 Número del diente para contorno 3:  25\n"
     ]
    },
    {
     "name": "stdout",
     "output_type": "stream",
     "text": [
      "✅ Diente 25 asignado.\n"
     ]
    },
    {
     "name": "stdin",
     "output_type": "stream",
     "text": [
      "🦷 Número del diente para contorno 1:  26\n"
     ]
    },
    {
     "name": "stdout",
     "output_type": "stream",
     "text": [
      "✅ Diente 26 asignado.\n",
      "💾 Anotaciones guardadas para image0129.jpeg.\n"
     ]
    },
    {
     "name": "stdin",
     "output_type": "stream",
     "text": [
      "🦷 Número del diente para contorno 5:  21\n"
     ]
    },
    {
     "name": "stdout",
     "output_type": "stream",
     "text": [
      "✅ Diente 21 asignado.\n"
     ]
    },
    {
     "name": "stdin",
     "output_type": "stream",
     "text": [
      "🦷 Número del diente para contorno 4:  22\n"
     ]
    },
    {
     "name": "stdout",
     "output_type": "stream",
     "text": [
      "✅ Diente 22 asignado.\n"
     ]
    },
    {
     "name": "stdin",
     "output_type": "stream",
     "text": [
      "🦷 Número del diente para contorno 3:  24\n"
     ]
    },
    {
     "name": "stdout",
     "output_type": "stream",
     "text": [
      "✅ Diente 24 asignado.\n"
     ]
    },
    {
     "name": "stdin",
     "output_type": "stream",
     "text": [
      "🦷 Número del diente para contorno 2:  25\n"
     ]
    },
    {
     "name": "stdout",
     "output_type": "stream",
     "text": [
      "✅ Diente 25 asignado.\n"
     ]
    },
    {
     "name": "stdin",
     "output_type": "stream",
     "text": [
      "🦷 Número del diente para contorno 1:  26\n"
     ]
    },
    {
     "name": "stdout",
     "output_type": "stream",
     "text": [
      "✅ Diente 26 asignado.\n",
      "💾 Anotaciones guardadas para image0130.jpeg.\n"
     ]
    },
    {
     "name": "stdin",
     "output_type": "stream",
     "text": [
      "🦷 Número del diente para contorno 5:  21\n"
     ]
    },
    {
     "name": "stdout",
     "output_type": "stream",
     "text": [
      "✅ Diente 21 asignado.\n"
     ]
    },
    {
     "name": "stdin",
     "output_type": "stream",
     "text": [
      "🦷 Número del diente para contorno 4:  22\n"
     ]
    },
    {
     "name": "stdout",
     "output_type": "stream",
     "text": [
      "✅ Diente 22 asignado.\n"
     ]
    },
    {
     "name": "stdin",
     "output_type": "stream",
     "text": [
      "🦷 Número del diente para contorno 3:  24\n"
     ]
    },
    {
     "name": "stdout",
     "output_type": "stream",
     "text": [
      "✅ Diente 24 asignado.\n"
     ]
    },
    {
     "name": "stdin",
     "output_type": "stream",
     "text": [
      "🦷 Número del diente para contorno 2:  25\n"
     ]
    },
    {
     "name": "stdout",
     "output_type": "stream",
     "text": [
      "✅ Diente 25 asignado.\n"
     ]
    },
    {
     "name": "stdin",
     "output_type": "stream",
     "text": [
      "🦷 Número del diente para contorno 1:  26\n"
     ]
    },
    {
     "name": "stdout",
     "output_type": "stream",
     "text": [
      "✅ Diente 26 asignado.\n",
      "💾 Anotaciones guardadas para image0131.jpeg.\n"
     ]
    },
    {
     "name": "stdin",
     "output_type": "stream",
     "text": [
      "🦷 Número del diente para contorno 5:  21\n"
     ]
    },
    {
     "name": "stdout",
     "output_type": "stream",
     "text": [
      "✅ Diente 21 asignado.\n"
     ]
    },
    {
     "name": "stdin",
     "output_type": "stream",
     "text": [
      "🦷 Número del diente para contorno 4:  22\n"
     ]
    },
    {
     "name": "stdout",
     "output_type": "stream",
     "text": [
      "✅ Diente 22 asignado.\n"
     ]
    },
    {
     "name": "stdin",
     "output_type": "stream",
     "text": [
      "🦷 Número del diente para contorno 3:  24\n"
     ]
    },
    {
     "name": "stdout",
     "output_type": "stream",
     "text": [
      "✅ Diente 24 asignado.\n"
     ]
    },
    {
     "name": "stdin",
     "output_type": "stream",
     "text": [
      "🦷 Número del diente para contorno 2:  25\n"
     ]
    },
    {
     "name": "stdout",
     "output_type": "stream",
     "text": [
      "✅ Diente 25 asignado.\n"
     ]
    },
    {
     "name": "stdin",
     "output_type": "stream",
     "text": [
      "🦷 Número del diente para contorno 1:  26\n"
     ]
    },
    {
     "name": "stdout",
     "output_type": "stream",
     "text": [
      "✅ Diente 26 asignado.\n",
      "💾 Anotaciones guardadas para image0132.jpeg.\n"
     ]
    },
    {
     "name": "stdin",
     "output_type": "stream",
     "text": [
      "🦷 Número del diente para contorno 4:  21\n"
     ]
    },
    {
     "name": "stdout",
     "output_type": "stream",
     "text": [
      "✅ Diente 21 asignado.\n"
     ]
    },
    {
     "name": "stdin",
     "output_type": "stream",
     "text": [
      "🦷 Número del diente para contorno 3:  22\n"
     ]
    },
    {
     "name": "stdout",
     "output_type": "stream",
     "text": [
      "✅ Diente 22 asignado.\n"
     ]
    },
    {
     "name": "stdin",
     "output_type": "stream",
     "text": [
      "🦷 Número del diente para contorno 2:  25\n"
     ]
    },
    {
     "name": "stdout",
     "output_type": "stream",
     "text": [
      "✅ Diente 25 asignado.\n"
     ]
    },
    {
     "name": "stdin",
     "output_type": "stream",
     "text": [
      "🦷 Número del diente para contorno 1:  26\n"
     ]
    },
    {
     "name": "stdout",
     "output_type": "stream",
     "text": [
      "✅ Diente 26 asignado.\n",
      "💾 Anotaciones guardadas para image0133.jpeg.\n"
     ]
    },
    {
     "name": "stdin",
     "output_type": "stream",
     "text": [
      "🦷 Número del diente para contorno 3:  21\n"
     ]
    },
    {
     "name": "stdout",
     "output_type": "stream",
     "text": [
      "✅ Diente 21 asignado.\n"
     ]
    },
    {
     "name": "stdin",
     "output_type": "stream",
     "text": [
      "🦷 Número del diente para contorno 1:  22\n"
     ]
    },
    {
     "name": "stdout",
     "output_type": "stream",
     "text": [
      "✅ Diente 22 asignado.\n"
     ]
    },
    {
     "name": "stdin",
     "output_type": "stream",
     "text": [
      "🦷 Número del diente para contorno 2:  23\n"
     ]
    },
    {
     "name": "stdout",
     "output_type": "stream",
     "text": [
      "✅ Diente 23 asignado.\n",
      "💾 Anotaciones guardadas para image0134.jpeg.\n"
     ]
    },
    {
     "name": "stdin",
     "output_type": "stream",
     "text": [
      "🦷 Número del diente para contorno 6:  21\n"
     ]
    },
    {
     "name": "stdout",
     "output_type": "stream",
     "text": [
      "✅ Diente 21 asignado.\n"
     ]
    },
    {
     "name": "stdin",
     "output_type": "stream",
     "text": [
      "🦷 Número del diente para contorno 4:  22\n"
     ]
    },
    {
     "name": "stdout",
     "output_type": "stream",
     "text": [
      "✅ Diente 22 asignado.\n"
     ]
    },
    {
     "name": "stdin",
     "output_type": "stream",
     "text": [
      "🦷 Número del diente para contorno 5:  23\n"
     ]
    },
    {
     "name": "stdout",
     "output_type": "stream",
     "text": [
      "✅ Diente 23 asignado.\n"
     ]
    },
    {
     "name": "stdin",
     "output_type": "stream",
     "text": [
      "🦷 Número del diente para contorno 2:  26\n"
     ]
    },
    {
     "name": "stdout",
     "output_type": "stream",
     "text": [
      "✅ Diente 26 asignado.\n"
     ]
    },
    {
     "name": "stdin",
     "output_type": "stream",
     "text": [
      "🦷 Número del diente para contorno 3:  14\n"
     ]
    },
    {
     "name": "stdout",
     "output_type": "stream",
     "text": [
      "✅ Diente 14 asignado.\n"
     ]
    },
    {
     "name": "stdin",
     "output_type": "stream",
     "text": [
      "🦷 Número del diente para contorno 1:  16\n"
     ]
    },
    {
     "name": "stdout",
     "output_type": "stream",
     "text": [
      "✅ Diente 16 asignado.\n",
      "💾 Anotaciones guardadas para image0135.jpeg.\n"
     ]
    },
    {
     "name": "stdin",
     "output_type": "stream",
     "text": [
      "🦷 Número del diente para contorno 6:  21\n"
     ]
    },
    {
     "name": "stdout",
     "output_type": "stream",
     "text": [
      "✅ Diente 21 asignado.\n"
     ]
    },
    {
     "name": "stdin",
     "output_type": "stream",
     "text": [
      "🦷 Número del diente para contorno 4:  22\n"
     ]
    },
    {
     "name": "stdout",
     "output_type": "stream",
     "text": [
      "✅ Diente 22 asignado.\n"
     ]
    },
    {
     "name": "stdin",
     "output_type": "stream",
     "text": [
      "🦷 Número del diente para contorno 2:  26\n"
     ]
    },
    {
     "name": "stdout",
     "output_type": "stream",
     "text": [
      "✅ Diente 26 asignado.\n"
     ]
    },
    {
     "name": "stdin",
     "output_type": "stream",
     "text": [
      "🦷 Número del diente para contorno 5:  13\n"
     ]
    },
    {
     "name": "stdout",
     "output_type": "stream",
     "text": [
      "✅ Diente 13 asignado.\n"
     ]
    },
    {
     "name": "stdin",
     "output_type": "stream",
     "text": [
      "🦷 Número del diente para contorno 3:  14\n"
     ]
    },
    {
     "name": "stdout",
     "output_type": "stream",
     "text": [
      "✅ Diente 14 asignado.\n"
     ]
    },
    {
     "name": "stdin",
     "output_type": "stream",
     "text": [
      "🦷 Número del diente para contorno 1:  16\n"
     ]
    },
    {
     "name": "stdout",
     "output_type": "stream",
     "text": [
      "✅ Diente 16 asignado.\n",
      "💾 Anotaciones guardadas para image0136.jpeg.\n"
     ]
    },
    {
     "name": "stdin",
     "output_type": "stream",
     "text": [
      "🦷 Número del diente para contorno 9:  21\n"
     ]
    },
    {
     "name": "stdout",
     "output_type": "stream",
     "text": [
      "✅ Diente 21 asignado.\n"
     ]
    },
    {
     "name": "stdin",
     "output_type": "stream",
     "text": [
      "🦷 Número del diente para contorno 7:  22\n"
     ]
    },
    {
     "name": "stdout",
     "output_type": "stream",
     "text": [
      "✅ Diente 22 asignado.\n"
     ]
    },
    {
     "name": "stdin",
     "output_type": "stream",
     "text": [
      "🦷 Número del diente para contorno 6:  24\n"
     ]
    },
    {
     "name": "stdout",
     "output_type": "stream",
     "text": [
      "✅ Diente 24 asignado.\n"
     ]
    },
    {
     "name": "stdin",
     "output_type": "stream",
     "text": [
      "🦷 Número del diente para contorno 4:  25\n"
     ]
    },
    {
     "name": "stdout",
     "output_type": "stream",
     "text": [
      "✅ Diente 25 asignado.\n"
     ]
    },
    {
     "name": "stdin",
     "output_type": "stream",
     "text": [
      "🦷 Número del diente para contorno 3:  26\n"
     ]
    },
    {
     "name": "stdout",
     "output_type": "stream",
     "text": [
      "✅ Diente 26 asignado.\n"
     ]
    },
    {
     "name": "stdin",
     "output_type": "stream",
     "text": [
      "🦷 Número del diente para contorno 8:  13\n"
     ]
    },
    {
     "name": "stdout",
     "output_type": "stream",
     "text": [
      "✅ Diente 13 asignado.\n"
     ]
    },
    {
     "name": "stdin",
     "output_type": "stream",
     "text": [
      "🦷 Número del diente para contorno 5:  14\n"
     ]
    },
    {
     "name": "stdout",
     "output_type": "stream",
     "text": [
      "✅ Diente 14 asignado.\n"
     ]
    },
    {
     "name": "stdin",
     "output_type": "stream",
     "text": [
      "🦷 Número del diente para contorno 2:  15\n"
     ]
    },
    {
     "name": "stdout",
     "output_type": "stream",
     "text": [
      "✅ Diente 15 asignado.\n"
     ]
    },
    {
     "name": "stdin",
     "output_type": "stream",
     "text": [
      "🦷 Número del diente para contorno 1:  16\n"
     ]
    },
    {
     "name": "stdout",
     "output_type": "stream",
     "text": [
      "✅ Diente 16 asignado.\n",
      "💾 Anotaciones guardadas para image0137.jpeg.\n"
     ]
    },
    {
     "name": "stdin",
     "output_type": "stream",
     "text": [
      "🦷 Número del diente para contorno 7:  21\n"
     ]
    },
    {
     "name": "stdout",
     "output_type": "stream",
     "text": [
      "✅ Diente 21 asignado.\n"
     ]
    },
    {
     "name": "stdin",
     "output_type": "stream",
     "text": [
      "🦷 Número del diente para contorno 4:  22\n"
     ]
    },
    {
     "name": "stdout",
     "output_type": "stream",
     "text": [
      "✅ Diente 22 asignado.\n"
     ]
    },
    {
     "name": "stdin",
     "output_type": "stream",
     "text": [
      "🦷 Número del diente para contorno 6:  11\n"
     ]
    },
    {
     "name": "stdout",
     "output_type": "stream",
     "text": [
      "✅ Diente 11 asignado.\n"
     ]
    },
    {
     "name": "stdin",
     "output_type": "stream",
     "text": [
      "🦷 Número del diente para contorno 5:  13\n"
     ]
    },
    {
     "name": "stdout",
     "output_type": "stream",
     "text": [
      "✅ Diente 13 asignado.\n"
     ]
    },
    {
     "name": "stdin",
     "output_type": "stream",
     "text": [
      "🦷 Número del diente para contorno 3:  14\n"
     ]
    },
    {
     "name": "stdout",
     "output_type": "stream",
     "text": [
      "✅ Diente 14 asignado.\n"
     ]
    },
    {
     "name": "stdin",
     "output_type": "stream",
     "text": [
      "🦷 Número del diente para contorno 2:  15\n"
     ]
    },
    {
     "name": "stdout",
     "output_type": "stream",
     "text": [
      "✅ Diente 15 asignado.\n"
     ]
    },
    {
     "name": "stdin",
     "output_type": "stream",
     "text": [
      "🦷 Número del diente para contorno 1:  16\n"
     ]
    },
    {
     "name": "stdout",
     "output_type": "stream",
     "text": [
      "✅ Diente 16 asignado.\n",
      "💾 Anotaciones guardadas para image0138.jpeg.\n"
     ]
    },
    {
     "name": "stdin",
     "output_type": "stream",
     "text": [
      "🦷 Número del diente para contorno 6:  21\n"
     ]
    },
    {
     "name": "stdout",
     "output_type": "stream",
     "text": [
      "✅ Diente 21 asignado.\n"
     ]
    },
    {
     "name": "stdin",
     "output_type": "stream",
     "text": [
      "🦷 Número del diente para contorno 4:  22\n"
     ]
    },
    {
     "name": "stdout",
     "output_type": "stream",
     "text": [
      "✅ Diente 22 asignado.\n"
     ]
    },
    {
     "name": "stdin",
     "output_type": "stream",
     "text": [
      "🦷 Número del diente para contorno 5:  11\n"
     ]
    },
    {
     "name": "stdout",
     "output_type": "stream",
     "text": [
      "✅ Diente 11 asignado.\n"
     ]
    },
    {
     "name": "stdin",
     "output_type": "stream",
     "text": [
      "🦷 Número del diente para contorno 3:  14\n"
     ]
    },
    {
     "name": "stdout",
     "output_type": "stream",
     "text": [
      "✅ Diente 14 asignado.\n"
     ]
    },
    {
     "name": "stdin",
     "output_type": "stream",
     "text": [
      "🦷 Número del diente para contorno 2:  15\n"
     ]
    },
    {
     "name": "stdout",
     "output_type": "stream",
     "text": [
      "✅ Diente 15 asignado.\n"
     ]
    },
    {
     "name": "stdin",
     "output_type": "stream",
     "text": [
      "🦷 Número del diente para contorno 1:  16\n"
     ]
    },
    {
     "name": "stdout",
     "output_type": "stream",
     "text": [
      "✅ Diente 16 asignado.\n",
      "💾 Anotaciones guardadas para image0140.jpeg.\n"
     ]
    },
    {
     "name": "stdin",
     "output_type": "stream",
     "text": [
      "🦷 Número del diente para contorno 4:  21\n"
     ]
    },
    {
     "name": "stdout",
     "output_type": "stream",
     "text": [
      "✅ Diente 21 asignado.\n"
     ]
    },
    {
     "name": "stdin",
     "output_type": "stream",
     "text": [
      "🦷 Número del diente para contorno 2:  22\n"
     ]
    },
    {
     "name": "stdout",
     "output_type": "stream",
     "text": [
      "✅ Diente 22 asignado.\n"
     ]
    },
    {
     "name": "stdin",
     "output_type": "stream",
     "text": [
      "🦷 Número del diente para contorno 3:  11\n"
     ]
    },
    {
     "name": "stdout",
     "output_type": "stream",
     "text": [
      "✅ Diente 11 asignado.\n"
     ]
    },
    {
     "name": "stdin",
     "output_type": "stream",
     "text": [
      "🦷 Número del diente para contorno 1:  14\n"
     ]
    },
    {
     "name": "stdout",
     "output_type": "stream",
     "text": [
      "✅ Diente 14 asignado.\n",
      "💾 Anotaciones guardadas para image0141.jpeg.\n"
     ]
    },
    {
     "name": "stdin",
     "output_type": "stream",
     "text": [
      "🦷 Número del diente para contorno 4:  11\n"
     ]
    },
    {
     "name": "stdout",
     "output_type": "stream",
     "text": [
      "✅ Diente 11 asignado.\n"
     ]
    },
    {
     "name": "stdin",
     "output_type": "stream",
     "text": [
      "🦷 Número del diente para contorno 2:  12\n"
     ]
    },
    {
     "name": "stdout",
     "output_type": "stream",
     "text": [
      "✅ Diente 12 asignado.\n"
     ]
    },
    {
     "name": "stdin",
     "output_type": "stream",
     "text": [
      "🦷 Número del diente para contorno 5:  21\n"
     ]
    },
    {
     "name": "stdout",
     "output_type": "stream",
     "text": [
      "✅ Diente 21 asignado.\n"
     ]
    },
    {
     "name": "stdin",
     "output_type": "stream",
     "text": [
      "🦷 Número del diente para contorno 3:  22\n"
     ]
    },
    {
     "name": "stdout",
     "output_type": "stream",
     "text": [
      "✅ Diente 22 asignado.\n",
      "💾 Anotaciones guardadas para image0142.jpeg.\n"
     ]
    },
    {
     "name": "stdin",
     "output_type": "stream",
     "text": [
      "🦷 Número del diente para contorno 5:  11\n"
     ]
    },
    {
     "name": "stdout",
     "output_type": "stream",
     "text": [
      "✅ Diente 11 asignado.\n"
     ]
    },
    {
     "name": "stdin",
     "output_type": "stream",
     "text": [
      "🦷 Número del diente para contorno 3:  12\n"
     ]
    },
    {
     "name": "stdout",
     "output_type": "stream",
     "text": [
      "✅ Diente 12 asignado.\n"
     ]
    },
    {
     "name": "stdin",
     "output_type": "stream",
     "text": [
      "🦷 Número del diente para contorno 6:  21\n"
     ]
    },
    {
     "name": "stdout",
     "output_type": "stream",
     "text": [
      "✅ Diente 21 asignado.\n"
     ]
    },
    {
     "name": "stdin",
     "output_type": "stream",
     "text": [
      "🦷 Número del diente para contorno 2:  26\n"
     ]
    },
    {
     "name": "stdout",
     "output_type": "stream",
     "text": [
      "✅ Diente 26 asignado.\n",
      "💾 Anotaciones guardadas para image0143.jpeg.\n"
     ]
    },
    {
     "name": "stdin",
     "output_type": "stream",
     "text": [
      "🦷 Número del diente para contorno 3:  11\n"
     ]
    },
    {
     "name": "stdout",
     "output_type": "stream",
     "text": [
      "✅ Diente 11 asignado.\n"
     ]
    },
    {
     "name": "stdin",
     "output_type": "stream",
     "text": [
      "🦷 Número del diente para contorno 2:  12\n"
     ]
    },
    {
     "name": "stdout",
     "output_type": "stream",
     "text": [
      "✅ Diente 12 asignado.\n"
     ]
    },
    {
     "name": "stdin",
     "output_type": "stream",
     "text": [
      "🦷 Número del diente para contorno 4:  21\n"
     ]
    },
    {
     "name": "stdout",
     "output_type": "stream",
     "text": [
      "✅ Diente 21 asignado.\n"
     ]
    },
    {
     "name": "stdin",
     "output_type": "stream",
     "text": [
      "🦷 Número del diente para contorno 1:  26\n"
     ]
    },
    {
     "name": "stdout",
     "output_type": "stream",
     "text": [
      "✅ Diente 26 asignado.\n",
      "💾 Anotaciones guardadas para image0144.jpeg.\n"
     ]
    },
    {
     "name": "stdin",
     "output_type": "stream",
     "text": [
      "🦷 Número del diente para contorno 3:  11\n"
     ]
    },
    {
     "name": "stdout",
     "output_type": "stream",
     "text": [
      "✅ Diente 11 asignado.\n"
     ]
    },
    {
     "name": "stdin",
     "output_type": "stream",
     "text": [
      "🦷 Número del diente para contorno 2:  12\n"
     ]
    },
    {
     "name": "stdout",
     "output_type": "stream",
     "text": [
      "✅ Diente 12 asignado.\n"
     ]
    },
    {
     "name": "stdin",
     "output_type": "stream",
     "text": [
      "🦷 Número del diente para contorno 4:  21\n"
     ]
    },
    {
     "name": "stdout",
     "output_type": "stream",
     "text": [
      "✅ Diente 21 asignado.\n"
     ]
    },
    {
     "name": "stdin",
     "output_type": "stream",
     "text": [
      "🦷 Número del diente para contorno 1:  26\n"
     ]
    },
    {
     "name": "stdout",
     "output_type": "stream",
     "text": [
      "✅ Diente 26 asignado.\n",
      "💾 Anotaciones guardadas para image0145.jpeg.\n"
     ]
    },
    {
     "name": "stdin",
     "output_type": "stream",
     "text": [
      "🦷 Número del diente para contorno 4:  12\n"
     ]
    },
    {
     "name": "stdout",
     "output_type": "stream",
     "text": [
      "✅ Diente 12 asignado.\n"
     ]
    },
    {
     "name": "stdin",
     "output_type": "stream",
     "text": [
      "🦷 Número del diente para contorno 5:  21\n"
     ]
    },
    {
     "name": "stdout",
     "output_type": "stream",
     "text": [
      "✅ Diente 21 asignado.\n"
     ]
    },
    {
     "name": "stdin",
     "output_type": "stream",
     "text": [
      "🦷 Número del diente para contorno 3:  24\n"
     ]
    },
    {
     "name": "stdout",
     "output_type": "stream",
     "text": [
      "✅ Diente 24 asignado.\n"
     ]
    },
    {
     "name": "stdin",
     "output_type": "stream",
     "text": [
      "🦷 Número del diente para contorno 1:  26\n"
     ]
    },
    {
     "name": "stdout",
     "output_type": "stream",
     "text": [
      "✅ Diente 26 asignado.\n",
      "💾 Anotaciones guardadas para image0147.jpeg.\n"
     ]
    },
    {
     "name": "stdin",
     "output_type": "stream",
     "text": [
      "🦷 Número del diente para contorno 5:  11\n"
     ]
    },
    {
     "name": "stdout",
     "output_type": "stream",
     "text": [
      "✅ Diente 11 asignado.\n"
     ]
    },
    {
     "name": "stdin",
     "output_type": "stream",
     "text": [
      "🦷 Número del diente para contorno 3:  12\n"
     ]
    },
    {
     "name": "stdout",
     "output_type": "stream",
     "text": [
      "✅ Diente 12 asignado.\n"
     ]
    },
    {
     "name": "stdin",
     "output_type": "stream",
     "text": [
      "🦷 Número del diente para contorno 4:  21\n"
     ]
    },
    {
     "name": "stdout",
     "output_type": "stream",
     "text": [
      "✅ Diente 21 asignado.\n"
     ]
    },
    {
     "name": "stdin",
     "output_type": "stream",
     "text": [
      "🦷 Número del diente para contorno 2:  24\n"
     ]
    },
    {
     "name": "stdout",
     "output_type": "stream",
     "text": [
      "✅ Diente 24 asignado.\n"
     ]
    },
    {
     "name": "stdin",
     "output_type": "stream",
     "text": [
      "🦷 Número del diente para contorno 1:  26\n"
     ]
    },
    {
     "name": "stdout",
     "output_type": "stream",
     "text": [
      "✅ Diente 26 asignado.\n",
      "💾 Anotaciones guardadas para image0148.jpeg.\n"
     ]
    },
    {
     "name": "stdin",
     "output_type": "stream",
     "text": [
      "🦷 Número del diente para contorno 4:  12\n"
     ]
    },
    {
     "name": "stdout",
     "output_type": "stream",
     "text": [
      "✅ Diente 12 asignado.\n"
     ]
    },
    {
     "name": "stdin",
     "output_type": "stream",
     "text": [
      "🦷 Número del diente para contorno 6:  11\n"
     ]
    },
    {
     "name": "stdout",
     "output_type": "stream",
     "text": [
      "✅ Diente 11 asignado.\n"
     ]
    },
    {
     "name": "stdin",
     "output_type": "stream",
     "text": [
      "🦷 Número del diente para contorno 5:  21\n"
     ]
    },
    {
     "name": "stdout",
     "output_type": "stream",
     "text": [
      "✅ Diente 21 asignado.\n"
     ]
    },
    {
     "name": "stdin",
     "output_type": "stream",
     "text": [
      "🦷 Número del diente para contorno 1:  26\n"
     ]
    },
    {
     "name": "stdout",
     "output_type": "stream",
     "text": [
      "✅ Diente 26 asignado.\n",
      "💾 Anotaciones guardadas para image0149.jpeg.\n"
     ]
    },
    {
     "name": "stdin",
     "output_type": "stream",
     "text": [
      "🦷 Número del diente para contorno 4:  11\n"
     ]
    },
    {
     "name": "stdout",
     "output_type": "stream",
     "text": [
      "✅ Diente 11 asignado.\n"
     ]
    },
    {
     "name": "stdin",
     "output_type": "stream",
     "text": [
      "🦷 Número del diente para contorno 2:  12\n"
     ]
    },
    {
     "name": "stdout",
     "output_type": "stream",
     "text": [
      "✅ Diente 12 asignado.\n"
     ]
    },
    {
     "name": "stdin",
     "output_type": "stream",
     "text": [
      "🦷 Número del diente para contorno 1:  26\n"
     ]
    },
    {
     "name": "stdout",
     "output_type": "stream",
     "text": [
      "✅ Diente 26 asignado.\n",
      "💾 Anotaciones guardadas para image0150.jpeg.\n"
     ]
    },
    {
     "name": "stdin",
     "output_type": "stream",
     "text": [
      "🦷 Número del diente para contorno 3:  12\n"
     ]
    },
    {
     "name": "stdout",
     "output_type": "stream",
     "text": [
      "✅ Diente 12 asignado.\n"
     ]
    },
    {
     "name": "stdin",
     "output_type": "stream",
     "text": [
      "🦷 Número del diente para contorno 1:  26\n"
     ]
    },
    {
     "name": "stdout",
     "output_type": "stream",
     "text": [
      "✅ Diente 26 asignado.\n",
      "💾 Anotaciones guardadas para image0151.jpeg.\n"
     ]
    },
    {
     "name": "stdin",
     "output_type": "stream",
     "text": [
      "🦷 Número del diente para contorno 7:  21\n"
     ]
    },
    {
     "name": "stdout",
     "output_type": "stream",
     "text": [
      "✅ Diente 21 asignado.\n"
     ]
    },
    {
     "name": "stdin",
     "output_type": "stream",
     "text": [
      "🦷 Número del diente para contorno 6:  23\n"
     ]
    },
    {
     "name": "stdout",
     "output_type": "stream",
     "text": [
      "✅ Diente 23 asignado.\n"
     ]
    },
    {
     "name": "stdin",
     "output_type": "stream",
     "text": [
      "🦷 Número del diente para contorno 1:  26\n"
     ]
    },
    {
     "name": "stdout",
     "output_type": "stream",
     "text": [
      "✅ Diente 26 asignado.\n"
     ]
    },
    {
     "name": "stdin",
     "output_type": "stream",
     "text": [
      "🦷 Número del diente para contorno 5:  11\n"
     ]
    },
    {
     "name": "stdout",
     "output_type": "stream",
     "text": [
      "✅ Diente 11 asignado.\n"
     ]
    },
    {
     "name": "stdin",
     "output_type": "stream",
     "text": [
      "🦷 Número del diente para contorno 3:  12\n"
     ]
    },
    {
     "name": "stdout",
     "output_type": "stream",
     "text": [
      "✅ Diente 12 asignado.\n",
      "💾 Anotaciones guardadas para image0152.jpeg.\n"
     ]
    },
    {
     "name": "stdin",
     "output_type": "stream",
     "text": [
      "🦷 Número del diente para contorno 6:  11\n"
     ]
    },
    {
     "name": "stdout",
     "output_type": "stream",
     "text": [
      "✅ Diente 11 asignado.\n"
     ]
    },
    {
     "name": "stdin",
     "output_type": "stream",
     "text": [
      "🦷 Número del diente para contorno 4:  12\n"
     ]
    },
    {
     "name": "stdout",
     "output_type": "stream",
     "text": [
      "✅ Diente 12 asignado.\n"
     ]
    },
    {
     "name": "stdin",
     "output_type": "stream",
     "text": [
      "🦷 Número del diente para contorno 1:  16\n"
     ]
    },
    {
     "name": "stdout",
     "output_type": "stream",
     "text": [
      "✅ Diente 16 asignado.\n",
      "💾 Anotaciones guardadas para image0153.jpeg.\n"
     ]
    },
    {
     "name": "stdin",
     "output_type": "stream",
     "text": [
      "🦷 Número del diente para contorno 6:  11\n"
     ]
    },
    {
     "name": "stdout",
     "output_type": "stream",
     "text": [
      "✅ Diente 11 asignado.\n"
     ]
    },
    {
     "name": "stdin",
     "output_type": "stream",
     "text": [
      "🦷 Número del diente para contorno 4:  12\n"
     ]
    },
    {
     "name": "stdout",
     "output_type": "stream",
     "text": [
      "✅ Diente 12 asignado.\n"
     ]
    },
    {
     "name": "stdin",
     "output_type": "stream",
     "text": [
      "🦷 Número del diente para contorno 1:  16\n"
     ]
    },
    {
     "name": "stdout",
     "output_type": "stream",
     "text": [
      "✅ Diente 16 asignado.\n",
      "💾 Anotaciones guardadas para image0154.jpeg.\n"
     ]
    },
    {
     "name": "stdin",
     "output_type": "stream",
     "text": [
      "🦷 Número del diente para contorno 7:  11\n"
     ]
    },
    {
     "name": "stdout",
     "output_type": "stream",
     "text": [
      "✅ Diente 11 asignado.\n"
     ]
    },
    {
     "name": "stdin",
     "output_type": "stream",
     "text": [
      "🦷 Número del diente para contorno 5:  12\n"
     ]
    },
    {
     "name": "stdout",
     "output_type": "stream",
     "text": [
      "✅ Diente 12 asignado.\n"
     ]
    },
    {
     "name": "stdin",
     "output_type": "stream",
     "text": [
      "🦷 Número del diente para contorno 2:  15\n"
     ]
    },
    {
     "name": "stdout",
     "output_type": "stream",
     "text": [
      "✅ Diente 15 asignado.\n"
     ]
    },
    {
     "name": "stdin",
     "output_type": "stream",
     "text": [
      "🦷 Número del diente para contorno 1:  16\n"
     ]
    },
    {
     "name": "stdout",
     "output_type": "stream",
     "text": [
      "✅ Diente 16 asignado.\n",
      "💾 Anotaciones guardadas para image0155.jpeg.\n"
     ]
    },
    {
     "name": "stdin",
     "output_type": "stream",
     "text": [
      "🦷 Número del diente para contorno 7:  12\n"
     ]
    },
    {
     "name": "stdout",
     "output_type": "stream",
     "text": [
      "✅ Diente 12 asignado.\n"
     ]
    },
    {
     "name": "stdin",
     "output_type": "stream",
     "text": [
      "🦷 Número del diente para contorno 5:  14\n"
     ]
    },
    {
     "name": "stdout",
     "output_type": "stream",
     "text": [
      "✅ Diente 14 asignado.\n"
     ]
    },
    {
     "name": "stdin",
     "output_type": "stream",
     "text": [
      "🦷 Número del diente para contorno 2:  16\n"
     ]
    },
    {
     "name": "stdout",
     "output_type": "stream",
     "text": [
      "✅ Diente 16 asignado.\n",
      "💾 Anotaciones guardadas para image0156.jpeg.\n"
     ]
    },
    {
     "name": "stdin",
     "output_type": "stream",
     "text": [
      "🦷 Número del diente para contorno 6:  12\n"
     ]
    },
    {
     "name": "stdout",
     "output_type": "stream",
     "text": [
      "✅ Diente 12 asignado.\n"
     ]
    },
    {
     "name": "stdin",
     "output_type": "stream",
     "text": [
      "🦷 Número del diente para contorno 4:  14\n"
     ]
    },
    {
     "name": "stdout",
     "output_type": "stream",
     "text": [
      "✅ Diente 14 asignado.\n"
     ]
    },
    {
     "name": "stdin",
     "output_type": "stream",
     "text": [
      "🦷 Número del diente para contorno 1:  16\n"
     ]
    },
    {
     "name": "stdout",
     "output_type": "stream",
     "text": [
      "✅ Diente 16 asignado.\n",
      "💾 Anotaciones guardadas para image0157.jpeg.\n"
     ]
    },
    {
     "name": "stdin",
     "output_type": "stream",
     "text": [
      "🦷 Número del diente para contorno 5:  12\n"
     ]
    },
    {
     "name": "stdout",
     "output_type": "stream",
     "text": [
      "✅ Diente 12 asignado.\n"
     ]
    },
    {
     "name": "stdin",
     "output_type": "stream",
     "text": [
      "🦷 Número del diente para contorno 4:  14\n"
     ]
    },
    {
     "name": "stdout",
     "output_type": "stream",
     "text": [
      "✅ Diente 14 asignado.\n"
     ]
    },
    {
     "name": "stdin",
     "output_type": "stream",
     "text": [
      "🦷 Número del diente para contorno 1:  16\n"
     ]
    },
    {
     "name": "stdout",
     "output_type": "stream",
     "text": [
      "✅ Diente 16 asignado.\n"
     ]
    },
    {
     "name": "stdin",
     "output_type": "stream",
     "text": [
      "🦷 Número del diente para contorno 2:  26\n"
     ]
    },
    {
     "name": "stdout",
     "output_type": "stream",
     "text": [
      "✅ Diente 26 asignado.\n",
      "💾 Anotaciones guardadas para image0158.jpeg.\n"
     ]
    },
    {
     "name": "stdin",
     "output_type": "stream",
     "text": [
      "🦷 Número del diente para contorno 4:  12\n"
     ]
    },
    {
     "name": "stdout",
     "output_type": "stream",
     "text": [
      "✅ Diente 12 asignado.\n"
     ]
    },
    {
     "name": "stdin",
     "output_type": "stream",
     "text": [
      "🦷 Número del diente para contorno 2:  14\n"
     ]
    },
    {
     "name": "stdout",
     "output_type": "stream",
     "text": [
      "✅ Diente 14 asignado.\n"
     ]
    },
    {
     "name": "stdin",
     "output_type": "stream",
     "text": [
      "🦷 Número del diente para contorno 1:  26\n"
     ]
    },
    {
     "name": "stdout",
     "output_type": "stream",
     "text": [
      "✅ Diente 26 asignado.\n",
      "💾 Anotaciones guardadas para image0159.jpeg.\n"
     ]
    },
    {
     "name": "stdin",
     "output_type": "stream",
     "text": [
      "🦷 Número del diente para contorno 2:  14\n"
     ]
    },
    {
     "name": "stdout",
     "output_type": "stream",
     "text": [
      "✅ Diente 14 asignado.\n"
     ]
    },
    {
     "name": "stdin",
     "output_type": "stream",
     "text": [
      "🦷 Número del diente para contorno 1:  16\n"
     ]
    },
    {
     "name": "stdout",
     "output_type": "stream",
     "text": [
      "✅ Diente 16 asignado.\n",
      "💾 Anotaciones guardadas para image0160.jpeg.\n"
     ]
    },
    {
     "name": "stdin",
     "output_type": "stream",
     "text": [
      "🦷 Número del diente para contorno 3:  14\n"
     ]
    },
    {
     "name": "stdout",
     "output_type": "stream",
     "text": [
      "✅ Diente 14 asignado.\n"
     ]
    },
    {
     "name": "stdin",
     "output_type": "stream",
     "text": [
      "🦷 Número del diente para contorno 1:  16\n"
     ]
    },
    {
     "name": "stdout",
     "output_type": "stream",
     "text": [
      "✅ Diente 16 asignado.\n"
     ]
    },
    {
     "name": "stdin",
     "output_type": "stream",
     "text": [
      "🦷 Número del diente para contorno 4:  12\n"
     ]
    },
    {
     "name": "stdout",
     "output_type": "stream",
     "text": [
      "✅ Diente 12 asignado.\n"
     ]
    },
    {
     "name": "stdin",
     "output_type": "stream",
     "text": [
      "🦷 Número del diente para contorno 2:  26\n"
     ]
    },
    {
     "name": "stdout",
     "output_type": "stream",
     "text": [
      "✅ Diente 26 asignado.\n",
      "💾 Anotaciones guardadas para image0161.jpeg.\n"
     ]
    },
    {
     "name": "stdin",
     "output_type": "stream",
     "text": [
      "🦷 Número del diente para contorno 2:  14\n"
     ]
    },
    {
     "name": "stdout",
     "output_type": "stream",
     "text": [
      "✅ Diente 14 asignado.\n"
     ]
    },
    {
     "name": "stdin",
     "output_type": "stream",
     "text": [
      "🦷 Número del diente para contorno 1:  26\n"
     ]
    },
    {
     "name": "stdout",
     "output_type": "stream",
     "text": [
      "✅ Diente 26 asignado.\n",
      "💾 Anotaciones guardadas para image0162.jpeg.\n"
     ]
    },
    {
     "name": "stdin",
     "output_type": "stream",
     "text": [
      "🦷 Número del diente para contorno 3:  26\n"
     ]
    },
    {
     "name": "stdout",
     "output_type": "stream",
     "text": [
      "✅ Diente 26 asignado.\n",
      "💾 Anotaciones guardadas para image0163.jpeg.\n"
     ]
    },
    {
     "name": "stdin",
     "output_type": "stream",
     "text": [
      "🦷 Número del diente para contorno 3:  26\n"
     ]
    },
    {
     "name": "stdout",
     "output_type": "stream",
     "text": [
      "✅ Diente 26 asignado.\n"
     ]
    },
    {
     "name": "stdin",
     "output_type": "stream",
     "text": [
      "🦷 Número del diente para contorno 4:  14\n"
     ]
    },
    {
     "name": "stdout",
     "output_type": "stream",
     "text": [
      "✅ Diente 14 asignado.\n",
      "💾 Anotaciones guardadas para image0164.jpeg.\n"
     ]
    },
    {
     "name": "stdin",
     "output_type": "stream",
     "text": [
      "🦷 Número del diente para contorno 4:  14\n"
     ]
    },
    {
     "name": "stdout",
     "output_type": "stream",
     "text": [
      "✅ Diente 14 asignado.\n"
     ]
    },
    {
     "name": "stdin",
     "output_type": "stream",
     "text": [
      "🦷 Número del diente para contorno 4:  14\n"
     ]
    },
    {
     "name": "stdout",
     "output_type": "stream",
     "text": [
      "✅ Diente 14 asignado.\n"
     ]
    },
    {
     "name": "stdin",
     "output_type": "stream",
     "text": [
      "🦷 Número del diente para contorno 2:  15\n"
     ]
    },
    {
     "name": "stdout",
     "output_type": "stream",
     "text": [
      "✅ Diente 15 asignado.\n"
     ]
    },
    {
     "name": "stdin",
     "output_type": "stream",
     "text": [
      "🦷 Número del diente para contorno 1:  16\n"
     ]
    },
    {
     "name": "stdout",
     "output_type": "stream",
     "text": [
      "✅ Diente 16 asignado.\n"
     ]
    },
    {
     "name": "stdin",
     "output_type": "stream",
     "text": [
      "🦷 Número del diente para contorno 3:  26\n"
     ]
    },
    {
     "name": "stdout",
     "output_type": "stream",
     "text": [
      "✅ Diente 26 asignado.\n",
      "💾 Anotaciones guardadas para image0165.jpeg.\n"
     ]
    },
    {
     "name": "stdin",
     "output_type": "stream",
     "text": [
      "🦷 Número del diente para contorno 2:  26\n"
     ]
    },
    {
     "name": "stdout",
     "output_type": "stream",
     "text": [
      "✅ Diente 26 asignado.\n"
     ]
    },
    {
     "name": "stdin",
     "output_type": "stream",
     "text": [
      "🦷 Número del diente para contorno 3:  14\n"
     ]
    },
    {
     "name": "stdout",
     "output_type": "stream",
     "text": [
      "✅ Diente 14 asignado.\n"
     ]
    },
    {
     "name": "stdin",
     "output_type": "stream",
     "text": [
      "🦷 Número del diente para contorno 1:  16\n"
     ]
    },
    {
     "name": "stdout",
     "output_type": "stream",
     "text": [
      "✅ Diente 16 asignado.\n",
      "💾 Anotaciones guardadas para image0166.jpeg.\n"
     ]
    },
    {
     "name": "stdin",
     "output_type": "stream",
     "text": [
      "🦷 Número del diente para contorno 2:  1\n"
     ]
    },
    {
     "name": "stdout",
     "output_type": "stream",
     "text": [
      "⚠️ Número inválido.\n"
     ]
    },
    {
     "name": "stdin",
     "output_type": "stream",
     "text": [
      "🦷 Número del diente para contorno 2:  14\n"
     ]
    },
    {
     "name": "stdout",
     "output_type": "stream",
     "text": [
      "✅ Diente 14 asignado.\n"
     ]
    },
    {
     "name": "stdin",
     "output_type": "stream",
     "text": [
      "🦷 Número del diente para contorno 1:  26\n"
     ]
    },
    {
     "name": "stdout",
     "output_type": "stream",
     "text": [
      "✅ Diente 26 asignado.\n",
      "💾 Anotaciones guardadas para image0167.jpeg.\n"
     ]
    },
    {
     "name": "stdin",
     "output_type": "stream",
     "text": [
      "🦷 Número del diente para contorno 2:  14\n"
     ]
    },
    {
     "name": "stdout",
     "output_type": "stream",
     "text": [
      "✅ Diente 14 asignado.\n"
     ]
    },
    {
     "name": "stdin",
     "output_type": "stream",
     "text": [
      "🦷 Número del diente para contorno 1:  26\n"
     ]
    },
    {
     "name": "stdout",
     "output_type": "stream",
     "text": [
      "✅ Diente 26 asignado.\n",
      "💾 Anotaciones guardadas para image0168.jpeg.\n"
     ]
    },
    {
     "name": "stdin",
     "output_type": "stream",
     "text": [
      "🦷 Número del diente para contorno 1:  16\n"
     ]
    },
    {
     "name": "stdout",
     "output_type": "stream",
     "text": [
      "✅ Diente 16 asignado.\n"
     ]
    },
    {
     "name": "stdin",
     "output_type": "stream",
     "text": [
      "🦷 Número del diente para contorno 2:  26\n"
     ]
    },
    {
     "name": "stdout",
     "output_type": "stream",
     "text": [
      "✅ Diente 26 asignado.\n",
      "💾 Anotaciones guardadas para image0169.jpeg.\n"
     ]
    },
    {
     "name": "stdin",
     "output_type": "stream",
     "text": [
      "🦷 Número del diente para contorno 1:  16\n"
     ]
    },
    {
     "name": "stdout",
     "output_type": "stream",
     "text": [
      "✅ Diente 16 asignado.\n"
     ]
    },
    {
     "name": "stdin",
     "output_type": "stream",
     "text": [
      "🦷 Número del diente para contorno 2:  26\n"
     ]
    },
    {
     "name": "stdout",
     "output_type": "stream",
     "text": [
      "✅ Diente 26 asignado.\n",
      "💾 Anotaciones guardadas para image0170.jpeg.\n",
      "💾 Anotaciones guardadas para image0171.jpeg.\n",
      "💾 Anotaciones guardadas para image0172.jpeg.\n",
      "💾 Anotaciones guardadas para image0173.jpeg.\n",
      "💾 Anotaciones guardadas para image0174.jpeg.\n",
      "💾 Anotaciones guardadas para image0175.jpeg.\n",
      "💾 Anotaciones guardadas para image0176.jpeg.\n",
      "💾 Anotaciones guardadas para image0177.jpeg.\n",
      "💾 Anotaciones guardadas para image0178.jpeg.\n",
      "💾 Anotaciones guardadas para image0179.jpeg.\n",
      "💾 Anotaciones guardadas para image0180.jpeg.\n",
      "💾 Anotaciones guardadas para image0181.jpeg.\n",
      "💾 Anotaciones guardadas para image0182.jpeg.\n",
      "💾 Anotaciones guardadas para image0183.jpeg.\n",
      "💾 Anotaciones guardadas para image0184.jpeg.\n"
     ]
    }
   ],
   "source": [
    "# import cv2\n",
    "import os\n",
    "import numpy as np\n",
    "\n",
    "# === CONFIGURACIÓN ===\n",
    "imagenes_dir = 'C:/Users/ana.torres/Desktop/python/biomod/DICOM/casX/jpeg_images/detections/arco_superior'\n",
    "labels_dir = 'C:/Users/ana.torres/Desktop/python/biomod/DICOM/casX/jpeg_images/detections/labels'\n",
    "salida_dir = 'C:/Users/ana.torres/Desktop/python/biomod/DICOM/casX/jpeg_images/detections/anotaciones_finales'\n",
    "os.makedirs(salida_dir, exist_ok=True)\n",
    "\n",
    "# Mapeo de los dientes\n",
    "mapeo = {'11': 0, '12': 1, '13': 2, '14': 3, '15': 4, '16': 5, '17': 6, '18': 7,\n",
    "         '21': 8, '22': 9, '23': 10, '24': 11, '25': 12, '26': 13, '27': 14, '28': 15}\n",
    "\n",
    "# Función para obtener el ID del diente a partir del nombre\n",
    "def nombre_to_id(nombre):\n",
    "    return mapeo.get(nombre, -1)\n",
    "\n",
    "# Función para guardar las anotaciones en formato YOLO\n",
    "def guardar_anotaciones(imagen, etiquetas, contornos, nombre_imagen):\n",
    "    with open(os.path.join(salida_dir, nombre_imagen.replace('.jpeg', '.txt')), 'w') as f:\n",
    "        for idx, diente in enumerate(etiquetas):\n",
    "            if diente is not None:\n",
    "                x, y, w_box, h_box = cv2.boundingRect(contornos[idx])\n",
    "                xc = (x + w_box / 2) / imagen.shape[1]\n",
    "                yc = (y + h_box / 2) / imagen.shape[0]\n",
    "                bw = w_box / imagen.shape[1]\n",
    "                bh = h_box / imagen.shape[0]\n",
    "                class_id = mapeo[diente]\n",
    "                f.write(f\"{class_id} {xc:.6f} {yc:.6f} {bw:.6f} {bh:.6f}\\n\")\n",
    "    print(f\"💾 Anotaciones guardadas para {nombre_imagen}.\")\n",
    "\n",
    "# === CARGAR Y PROCESAR IMÁGENES ===\n",
    "imagenes = [f for f in os.listdir(imagenes_dir) if f.endswith('.jpeg')]\n",
    "\n",
    "# Configuración de umbral de área mínima\n",
    "umbral_area_minima = 50  # Ajusta este valor según lo que necesites\n",
    "\n",
    "# Recorrer cada imagen\n",
    "for nombre_imagen in imagenes:\n",
    "    img_path = os.path.join(imagenes_dir, nombre_imagen)\n",
    "    img = cv2.imread(img_path)\n",
    "    if img is None:\n",
    "        print(f\"❌ No se pudo cargar la imagen: {img_path}\")\n",
    "        continue\n",
    "\n",
    "    h, w = img.shape[:2]\n",
    "    \n",
    "    # === CARGAR LA CAJA DEL ARCO ===\n",
    "    label_path = os.path.join(labels_dir, nombre_imagen.replace('.jpeg', '.txt'))\n",
    "    cajas = []\n",
    "    if os.path.exists(label_path):\n",
    "        with open(label_path, 'r') as f:\n",
    "            for line in f:\n",
    "                _, xc, yc, bw, bh = map(float, line.strip().split())\n",
    "                x1 = int((xc - bw/2) * w)\n",
    "                y1 = int((yc - bh/2) * h)\n",
    "                x2 = int((xc + bw/2) * w)\n",
    "                y2 = int((yc + bh/2) * h)\n",
    "                cajas.append((x1, y1, x2, y2))\n",
    "    else:\n",
    "        print(\"⚠️ Archivo de etiquetas no encontrado.\")\n",
    "        continue\n",
    "\n",
    "    # === RECORTAR REGIÓN DEL ARCO ===\n",
    "    x1, y1, x2, y2 = cajas[0]\n",
    "    img_corte = img[y1:y2, x1:x2]\n",
    "\n",
    "    # === CONVERTIR A BLANCO Y NEGRO (ESCALA DE GRISES) ===\n",
    "    gris = cv2.cvtColor(img_corte, cv2.COLOR_BGR2GRAY)\n",
    "\n",
    "    # === MEJORAR RESOLUCIÓN (AJUSTE DE CONTRASTE Y BRILLO) ===\n",
    "    gris_ecualizado = cv2.equalizeHist(gris)\n",
    "    clahe = cv2.createCLAHE(clipLimit=2.0, tileGridSize=(8, 8))\n",
    "    gris_clahe = clahe.apply(gris)\n",
    "\n",
    "    # === APLICAR FILTROS PARA PONER LOS PÍXELES MÁS ALTOS BLANCOS Y LOS MÁS BAJOS NEGROS ===\n",
    "    _, gris_umbralizado = cv2.threshold(gris_clahe, 200, 255, cv2.THRESH_BINARY)\n",
    "\n",
    "    # === DETECCIÓN DE CONTORNOS Y CIERRE MORFOLÓGICO ===\n",
    "    bordes = cv2.Canny(gris_umbralizado, 50, 80)\n",
    "    kernel = np.ones((1, 1), np.uint8)\n",
    "    cerrado = cv2.morphologyEx(bordes, cv2.MORPH_CLOSE, kernel, iterations=2)\n",
    "\n",
    "    # Encontrar contornos\n",
    "    contornos, _ = cv2.findContours(cerrado, cv2.RETR_EXTERNAL, cv2.CHAIN_APPROX_SIMPLE)\n",
    "\n",
    "    # === FILTRADO DE CONTORNOS POR ÁREA ===\n",
    "    contornos_filtrados = []\n",
    "    etiquetas_filtradas = []\n",
    "\n",
    "    for idx, cnt in enumerate(contornos):\n",
    "        area = cv2.contourArea(cnt)\n",
    "        if area >= umbral_area_minima:\n",
    "            contornos_filtrados.append(cnt)\n",
    "            etiquetas_filtradas.append(None)  # Aún sin etiquetas\n",
    "\n",
    "    # === FUNCIONES DE INTERFAZ ===\n",
    "    def mostrar(img, contornos, etiquetas):\n",
    "        copia = img.copy()\n",
    "        for idx, cnt in enumerate(contornos):\n",
    "            x, y, w, h = cv2.boundingRect(cnt)\n",
    "            color = (0, 255, 0) if etiquetas[idx] is None else (0, 0, 255)\n",
    "            # Dibujar una caja delimitadora en los contornos con un grosor más fino (1 píxel)\n",
    "            cv2.rectangle(copia, (x, y), (x + w, y + h), color, 1)  # Grosor cambiado de 2 a 1\n",
    "            # Mostrar el número del diente (sin la palabra \"diente\")\n",
    "            if etiquetas[idx] is not None:\n",
    "                cv2.putText(copia, f\"{etiquetas[idx]}\", (x, y - 5), cv2.FONT_HERSHEY_SIMPLEX, 0.6, color, 2)\n",
    "        return copia\n",
    "\n",
    "    # Función para manejar clic en la imagen y asignar etiquetas\n",
    "    def mouse_callback(event, x, y, flags, param):\n",
    "        global seleccion_idx\n",
    "        if event == cv2.EVENT_LBUTTONDOWN:\n",
    "            for idx, cnt in enumerate(contornos_filtrados):  # Usamos los contornos filtrados\n",
    "                if cv2.pointPolygonTest(cnt, (x, y), False) >= 0:\n",
    "                    seleccion_idx = idx\n",
    "                    diente = input(f\"🦷 Número del diente para contorno {idx + 1}: \").strip()\n",
    "                    class_id = nombre_to_id(diente)\n",
    "                    if class_id != -1:\n",
    "                        etiquetas_filtradas[idx] = diente  # Asignar el diente al contorno\n",
    "                        print(f\"✅ Diente {diente} asignado.\")\n",
    "                    else:\n",
    "                        print(\"⚠️ Número inválido.\")\n",
    "                    break\n",
    "\n",
    "    # === INTERFAZ DE USUARIO PARA DIBUJAR Y ASIGNAR DIENTES ===\n",
    "    cv2.namedWindow(\"Etiqueta dientes\", cv2.WINDOW_NORMAL)\n",
    "    cv2.resizeWindow(\"Etiqueta dientes\", 1000, 800)\n",
    "    cv2.setMouseCallback(\"Etiqueta dientes\", mouse_callback)\n",
    "\n",
    "    while True:\n",
    "        vis = mostrar(img_corte, contornos_filtrados, etiquetas_filtradas)\n",
    "        cv2.imshow(\"Etiqueta dientes\", vis)\n",
    "        key = cv2.waitKey(1) & 0xFF\n",
    "        if key == ord('s'):\n",
    "            # Guardar anotaciones para la imagen actual\n",
    "            guardar_anotaciones(img, etiquetas_filtradas, contornos_filtrados, nombre_imagen)\n",
    "            break\n",
    "        elif key == ord('q'):\n",
    "            print(\"⏩ Saliendo sin guardar.\")\n",
    "            break\n",
    "\n",
    "    cv2.destroyAllWindows()\n"
   ]
  },
  {
   "cell_type": "code",
   "execution_count": 6,
   "id": "04526226-1c51-4419-88f2-9a18dd5d417d",
   "metadata": {},
   "outputs": [
    {
     "ename": "NameError",
     "evalue": "name 'mostrar' is not defined",
     "output_type": "error",
     "traceback": [
      "\u001b[31m---------------------------------------------------------------------------\u001b[39m",
      "\u001b[31mNameError\u001b[39m                                 Traceback (most recent call last)",
      "\u001b[36mCell\u001b[39m\u001b[36m \u001b[39m\u001b[32mIn[6]\u001b[39m\u001b[32m, line 6\u001b[39m\n\u001b[32m      3\u001b[39m os.makedirs(salida_vis_dir, exist_ok=\u001b[38;5;28;01mTrue\u001b[39;00m)\n\u001b[32m      5\u001b[39m \u001b[38;5;66;03m# Dibujar y guardar imagen con contornos y etiquetas\u001b[39;00m\n\u001b[32m----> \u001b[39m\u001b[32m6\u001b[39m img_etiquetada = \u001b[43mmostrar\u001b[49m(img_corte, contornos_filtrados, etiquetas_filtradas)\n\u001b[32m      7\u001b[39m ruta_guardado_img = os.path.join(salida_vis_dir, nombre_imagen)\n\u001b[32m      8\u001b[39m cv2.imwrite(ruta_guardado_img, img_etiquetada)\n",
      "\u001b[31mNameError\u001b[39m: name 'mostrar' is not defined"
     ]
    }
   ],
   "source": [
    "# Crear carpeta si no existe\n",
    "salida_vis_dir = 'C:/Users/ana.torres/Desktop/python/biomod/DICOM/casX/jpeg_images/detections/contorno dientes'\n",
    "os.makedirs(salida_vis_dir, exist_ok=True)\n",
    "\n",
    "# Dibujar y guardar imagen con contornos y etiquetas\n",
    "img_etiquetada = mostrar(img_corte, contornos_filtrados, etiquetas_filtradas)\n",
    "ruta_guardado_img = os.path.join(salida_vis_dir, nombre_imagen)\n",
    "cv2.imwrite(ruta_guardado_img, img_etiquetada)\n",
    "print(f\"🖼️ Imagen anotada guardada en: {ruta_guardado_img}\")"
   ]
  },
  {
   "cell_type": "code",
   "execution_count": null,
   "id": "9bebae7e-d5c5-410c-bf30-da08d37fa991",
   "metadata": {},
   "outputs": [],
   "source": []
  }
 ],
 "metadata": {
  "kernelspec": {
   "display_name": "Python 3 (ipykernel)",
   "language": "python",
   "name": "python3"
  },
  "language_info": {
   "codemirror_mode": {
    "name": "ipython",
    "version": 3
   },
   "file_extension": ".py",
   "mimetype": "text/x-python",
   "name": "python",
   "nbconvert_exporter": "python",
   "pygments_lexer": "ipython3",
   "version": "3.13.2"
  }
 },
 "nbformat": 4,
 "nbformat_minor": 5
}

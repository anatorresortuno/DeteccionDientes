{
 "cells": [
  {
   "cell_type": "code",
   "execution_count": 1,
   "id": "18965408-0ed8-432a-a19b-7c23c206de05",
   "metadata": {},
   "outputs": [
    {
     "name": "stdout",
     "output_type": "stream",
     "text": [
      "✅ Dataset organizado en train/val.\n"
     ]
    }
   ],
   "source": [
    "import os\n",
    "import shutil\n",
    "import random\n",
    "\n",
    "# Directorios originales\n",
    "image_folder = \"C:/Users/ana.torres/Desktop/python/biomod/DICOM/casX/jpeg_images/\"\n",
    "label_folder = \"C:/Users/ana.torres/Desktop/python/biomod/DICOM/casX/yolo_labels/\"\n",
    "\n",
    "# Directorios de destino\n",
    "dataset_folder = \"C:/Users/ana.torres/Desktop/python/biomod/DICOM/casX/dataset/\"\n",
    "train_images = os.path.join(dataset_folder, \"images/train/\")\n",
    "val_images = os.path.join(dataset_folder, \"images/val/\")\n",
    "train_labels = os.path.join(dataset_folder, \"labels/train/\")\n",
    "val_labels = os.path.join(dataset_folder, \"labels/val/\")\n",
    "\n",
    "# Crear carpetas si no existen\n",
    "for folder in [train_images, val_images, train_labels, val_labels]:\n",
    "    os.makedirs(folder, exist_ok=True)\n",
    "\n",
    "# Obtener lista de archivos\n",
    "image_files = sorted([f for f in os.listdir(image_folder) if f.endswith(\".jpeg\")])\n",
    "random.shuffle(image_files)  # Mezclar imágenes aleatoriamente\n",
    "\n",
    "# Dividir en 80% entrenamiento, 20% validación\n",
    "split_index = int(len(image_files) * 0.8)\n",
    "train_files = image_files[:split_index]\n",
    "val_files = image_files[split_index:]\n",
    "\n",
    "# Mover archivos\n",
    "for file in train_files:\n",
    "    shutil.copy(os.path.join(image_folder, file), os.path.join(train_images, file))\n",
    "    shutil.copy(os.path.join(label_folder, file.replace(\".jpeg\", \".txt\")), os.path.join(train_labels, file.replace(\".jpeg\", \".txt\")))\n",
    "\n",
    "for file in val_files:\n",
    "    shutil.copy(os.path.join(image_folder, file), os.path.join(val_images, file))\n",
    "    shutil.copy(os.path.join(label_folder, file.replace(\".jpeg\", \".txt\")), os.path.join(val_labels, file.replace(\".jpeg\", \".txt\")))\n",
    "\n",
    "print(\"✅ Dataset organizado en train/val.\")\n",
    "\n"
   ]
  },
  {
   "cell_type": "code",
   "execution_count": null,
   "id": "432f4762-b12c-4bea-b787-3693145d9463",
   "metadata": {},
   "outputs": [],
   "source": []
  }
 ],
 "metadata": {
  "kernelspec": {
   "display_name": "Python 3 (ipykernel)",
   "language": "python",
   "name": "python3"
  },
  "language_info": {
   "codemirror_mode": {
    "name": "ipython",
    "version": 3
   },
   "file_extension": ".py",
   "mimetype": "text/x-python",
   "name": "python",
   "nbconvert_exporter": "python",
   "pygments_lexer": "ipython3",
   "version": "3.13.2"
  }
 },
 "nbformat": 4,
 "nbformat_minor": 5
}

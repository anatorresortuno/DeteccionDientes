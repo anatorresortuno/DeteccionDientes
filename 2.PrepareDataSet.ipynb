{
 "cells": [
  {
   "cell_type": "code",
   "execution_count": 2,
   "id": "c9629b24-f135-4714-833f-cce500e0fc81",
   "metadata": {},
   "outputs": [
    {
     "name": "stdout",
     "output_type": "stream",
     "text": [
      "C:\\Users\\ana.torres\\BioMod\\DetectarDientes\n"
     ]
    }
   ],
   "source": [
    "import os\n",
    "print(os.getcwd())"
   ]
  },
  {
   "cell_type": "code",
   "execution_count": 3,
   "id": "4497b53f-24b0-485d-a765-18fafde25e8e",
   "metadata": {},
   "outputs": [
    {
     "name": "stdout",
     "output_type": "stream",
     "text": [
      "✅ División lista: 45 train / 11 val\n"
     ]
    }
   ],
   "source": [
    "import os\n",
    "import shutil\n",
    "import random\n",
    "\n",
    "# === RUTAS ===\n",
    "dataset_dir = 'C:/Users/ana.torres/Desktop/python/biomod/DICOM/casX/jpeg_images/detections/anotaciones_finales' # .txt\n",
    "image_folder = 'C:/Users/ana.torres/Desktop/python/biomod/DICOM/caso19/detections/arco_superior'  # .jpeg\n",
    "output_dir = './dataset_yolo'\n",
    "val_split = 0.2\n",
    "\n",
    "# === CREAR CARPETAS YOLO ===\n",
    "for split in ['train', 'val']:\n",
    "    os.makedirs(os.path.join(output_dir, 'images', split), exist_ok=True)\n",
    "    os.makedirs(os.path.join(output_dir, 'labels', split), exist_ok=True)\n",
    "\n",
    "# === CARGAR ARCHIVOS .TXT QUE TENGAN IMAGEN CORRESPONDIENTE ===\n",
    "anotaciones = [f for f in os.listdir(dataset_dir) if f.endswith('.txt')]\n",
    "imagenes_validas = []\n",
    "\n",
    "for txt_file in anotaciones:\n",
    "    base = os.path.splitext(txt_file)[0]\n",
    "\n",
    "    for ext in ['.jpeg', '.jpg', '.png']:\n",
    "        imagen_path = os.path.join(image_folder, base + ext)\n",
    "        if os.path.exists(imagen_path):\n",
    "            imagenes_validas.append((base + ext, txt_file))\n",
    "            break\n",
    "\n",
    "# === DIVIDIR ===\n",
    "random.shuffle(imagenes_validas)\n",
    "val_count = int(len(imagenes_validas) * val_split)\n",
    "val_imgs = imagenes_validas[:val_count]\n",
    "train_imgs = imagenes_validas[val_count:]\n",
    "\n",
    "# === COPIA DE ARCHIVOS ===\n",
    "def copiar(pares, split):\n",
    "    for img_file, txt_file in pares:\n",
    "        src_img = os.path.join(image_folder, img_file)\n",
    "        src_txt = os.path.join(dataset_dir, txt_file)\n",
    "\n",
    "        dst_img = os.path.join(output_dir, 'images', split, img_file)\n",
    "        dst_txt = os.path.join(output_dir, 'labels', split, txt_file)\n",
    "\n",
    "        shutil.copy(src_img, dst_img)\n",
    "        shutil.copy(src_txt, dst_txt)\n",
    "\n",
    "# === EJECUTAR COPIA ===\n",
    "copiar(train_imgs, 'train')\n",
    "copiar(val_imgs, 'val')\n",
    "\n",
    "print(f\"✅ División lista: {len(train_imgs)} train / {len(val_imgs)} val\")\n"
   ]
  },
  {
   "cell_type": "code",
   "execution_count": null,
   "id": "a637968a-1918-4e42-bf9c-fa887991705e",
   "metadata": {},
   "outputs": [],
   "source": []
  }
 ],
 "metadata": {
  "kernelspec": {
   "display_name": "Python 3 (ipykernel)",
   "language": "python",
   "name": "python3"
  },
  "language_info": {
   "codemirror_mode": {
    "name": "ipython",
    "version": 3
   },
   "file_extension": ".py",
   "mimetype": "text/x-python",
   "name": "python",
   "nbconvert_exporter": "python",
   "pygments_lexer": "ipython3",
   "version": "3.13.2"
  }
 },
 "nbformat": 4,
 "nbformat_minor": 5
}
